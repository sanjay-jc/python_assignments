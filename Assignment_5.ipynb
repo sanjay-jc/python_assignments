{
 "cells": [
  {
   "cell_type": "markdown",
   "id": "178abac0",
   "metadata": {},
   "source": [
    "1.\tWrite a Python Program to Find LCM?"
   ]
  },
  {
   "cell_type": "code",
   "execution_count": 56,
   "id": "502c5f6b",
   "metadata": {},
   "outputs": [],
   "source": [
    "def lcm(a,b):\n",
    "    try:\n",
    "        condition = True\n",
    "        if b>a:\n",
    "            n1 = b\n",
    "            n2 = a\n",
    "        else:\n",
    "            n1 = a\n",
    "            n2 = b\n",
    "        while condition:\n",
    "            r = n1 % n2\n",
    "            if r == 0:\n",
    "                condition = False\n",
    "            n1 = n2\n",
    "            n2 = r\n",
    "    except Exception as e:\n",
    "        print(e)\n",
    "    return int((a*b)/n1)\n",
    "\n"
   ]
  },
  {
   "cell_type": "code",
   "execution_count": 57,
   "id": "c05fb19a",
   "metadata": {},
   "outputs": [
    {
     "data": {
      "text/plain": [
       "180"
      ]
     },
     "execution_count": 57,
     "metadata": {},
     "output_type": "execute_result"
    }
   ],
   "source": [
    "lcm(36,30)"
   ]
  },
  {
   "cell_type": "markdown",
   "id": "5763efe5",
   "metadata": {},
   "source": [
    "2.\tWrite a Python Program to Find HCF?"
   ]
  },
  {
   "cell_type": "code",
   "execution_count": 49,
   "id": "40991fd2",
   "metadata": {},
   "outputs": [],
   "source": [
    "def hcf(a,b):\n",
    "    try:\n",
    "        condition = True\n",
    "        if b>a:\n",
    "            n1 = b\n",
    "            n2 = a\n",
    "        else:\n",
    "            n1 = a\n",
    "            n2 = b\n",
    "        while condition:\n",
    "            r = n1 % n2\n",
    "            if r == 0:\n",
    "                condition = False\n",
    "            n1 = n2\n",
    "            n2 = r\n",
    "        return n1\n",
    "    except Exception as e:\n",
    "        print(e)"
   ]
  },
  {
   "cell_type": "code",
   "execution_count": 51,
   "id": "bd8247d4",
   "metadata": {},
   "outputs": [
    {
     "data": {
      "text/plain": [
       "18"
      ]
     },
     "execution_count": 51,
     "metadata": {},
     "output_type": "execute_result"
    }
   ],
   "source": [
    "hcf(198,360)"
   ]
  },
  {
   "cell_type": "markdown",
   "id": "7941b60a",
   "metadata": {},
   "source": [
    "3.\tWrite a Python Program to Convert Decimal to Binary, Octal and Hexadecimal?"
   ]
  },
  {
   "cell_type": "code",
   "execution_count": 72,
   "id": "1b94e8f7",
   "metadata": {},
   "outputs": [],
   "source": [
    "def converter(no):\n",
    "    try:\n",
    "        print(f\" Decimal: {no}\\n Binary: {bin(no)[2:]}\\n Octal: {oct(no)[2:]}\\n Hexadecimal: {hex(no)[2:]}\")\n",
    "    except Exception as e:\n",
    "        print(e)"
   ]
  },
  {
   "cell_type": "code",
   "execution_count": 78,
   "id": "81f689f3",
   "metadata": {},
   "outputs": [
    {
     "name": "stdout",
     "output_type": "stream",
     "text": [
      " Decimal: 383\n",
      " Binary: 101111111\n",
      " Octal: 577\n",
      " Hexadecimal: 17f\n"
     ]
    }
   ],
   "source": [
    "converter(383)"
   ]
  },
  {
   "cell_type": "markdown",
   "id": "5b36796f",
   "metadata": {},
   "source": [
    "4.\tWrite a Python Program To Find ASCII value of a character?"
   ]
  },
  {
   "cell_type": "code",
   "execution_count": 79,
   "id": "6224eaa1",
   "metadata": {},
   "outputs": [],
   "source": [
    "def ASCII_value(character):\n",
    "    try:\n",
    "        return ord(character)\n",
    "    except:\n",
    "        print('Please check')"
   ]
  },
  {
   "cell_type": "code",
   "execution_count": 82,
   "id": "64ef6e23",
   "metadata": {},
   "outputs": [
    {
     "data": {
      "text/plain": [
       "104"
      ]
     },
     "execution_count": 82,
     "metadata": {},
     "output_type": "execute_result"
    }
   ],
   "source": [
    "ASCII_value('h')"
   ]
  },
  {
   "cell_type": "markdown",
   "id": "48d5b481",
   "metadata": {},
   "source": [
    "5.\tWrite a Python Program to Make a Simple Calculator with 4 basic mathematical operations?"
   ]
  },
  {
   "cell_type": "code",
   "execution_count": 102,
   "id": "71d0fbc5",
   "metadata": {},
   "outputs": [],
   "source": [
    "def calculator(op,a,b):\n",
    "    try:\n",
    "        if op == 'a' :\n",
    "            return a + b\n",
    "        elif op == 's':\n",
    "            return a - b\n",
    "        elif op == 'd':\n",
    "            return a/b\n",
    "        elif op == 'm':\n",
    "            return a * b\n",
    "    except Exception as e:\n",
    "        print(e)"
   ]
  },
  {
   "cell_type": "code",
   "execution_count": 111,
   "id": "3cb7a931",
   "metadata": {},
   "outputs": [
    {
     "data": {
      "text/plain": [
       "6"
      ]
     },
     "execution_count": 111,
     "metadata": {},
     "output_type": "execute_result"
    }
   ],
   "source": [
    "calculator('a',3,3)"
   ]
  },
  {
   "cell_type": "code",
   "execution_count": null,
   "id": "e503cb51",
   "metadata": {},
   "outputs": [],
   "source": []
  }
 ],
 "metadata": {
  "kernelspec": {
   "display_name": "Python 3 (ipykernel)",
   "language": "python",
   "name": "python3"
  },
  "language_info": {
   "codemirror_mode": {
    "name": "ipython",
    "version": 3
   },
   "file_extension": ".py",
   "mimetype": "text/x-python",
   "name": "python",
   "nbconvert_exporter": "python",
   "pygments_lexer": "ipython3",
   "version": "3.9.7"
  }
 },
 "nbformat": 4,
 "nbformat_minor": 5
}
