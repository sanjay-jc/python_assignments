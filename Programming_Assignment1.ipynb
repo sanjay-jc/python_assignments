{
 "cells": [
  {
   "cell_type": "markdown",
   "id": "203cca7c",
   "metadata": {},
   "source": [
    "1. Write a Python program to print &quot;Hello Python&quot;?"
   ]
  },
  {
   "cell_type": "code",
   "execution_count": 1,
   "id": "17dde71b",
   "metadata": {},
   "outputs": [
    {
     "name": "stdout",
     "output_type": "stream",
     "text": [
      "Hello Python\n"
     ]
    }
   ],
   "source": [
    "print('Hello Python')"
   ]
  },
  {
   "cell_type": "markdown",
   "id": "8ce5e06c",
   "metadata": {},
   "source": [
    "2. Write a Python program to do arithmetical operations addition and division.?"
   ]
  },
  {
   "cell_type": "code",
   "execution_count": 18,
   "id": "c6c14e25",
   "metadata": {},
   "outputs": [
    {
     "name": "stdout",
     "output_type": "stream",
     "text": [
      "Enter two numbers a b :15 3\n",
      "Add a,b : 18\n",
      "Divison a/b : 5.0\n"
     ]
    }
   ],
   "source": [
    "a,b = input('Enter two numbers a b :').split()\n",
    "a,b = int(a),int(b)\n",
    "print('Add a+b :',a + b)\n",
    "print('Divison a/b :',a / b)\n",
    "\n",
    "\n"
   ]
  },
  {
   "cell_type": "markdown",
   "id": "2d48ff63",
   "metadata": {},
   "source": [
    "3. Write a Python program to find the area of a triangle?\n",
    "\n",
    "- Area of triangle = 1/2(base * height)"
   ]
  },
  {
   "cell_type": "code",
   "execution_count": 22,
   "id": "95083d95",
   "metadata": {},
   "outputs": [
    {
     "name": "stdout",
     "output_type": "stream",
     "text": [
      "Enter the base(cm), height(cm):10,5\n",
      "The area of traingle with base 10cm and height 5cm is: 25.0 cm^2\n"
     ]
    }
   ],
   "source": [
    "base,height = input('Enter the base(cm), height(cm):').split(',') # getting the base and height from user\n",
    "\n",
    "area = 0.5 * (int(base)*int(height)) \n",
    "\n",
    "print(f'The area of traingle with base {base}cm and height {height}cm is: {area} cm^2')"
   ]
  },
  {
   "cell_type": "markdown",
   "id": "262d5ae1",
   "metadata": {},
   "source": [
    "4. Write a Python program to swap two variables?"
   ]
  },
  {
   "cell_type": "code",
   "execution_count": 26,
   "id": "8eaf7c01",
   "metadata": {},
   "outputs": [
    {
     "name": "stdout",
     "output_type": "stream",
     "text": [
      "Enter a number: 10\n",
      "Enter a number6\n",
      "Before swapping\n",
      "a: 10, b: 6\n",
      "After swapping\n",
      "a: 6, b: 10\n"
     ]
    }
   ],
   "source": [
    "a = int(input('Enter a number: '))\n",
    "b = int(input('Enter a number'))\n",
    "\n",
    "print('Before swapping')\n",
    "print(f'a: {a}, b: {b}')\n",
    "\n",
    "#swapping the two varibles\n",
    "\n",
    "a, b = b, a\n",
    "print('After swapping')\n",
    "print(f'a: {a}, b: {b}')"
   ]
  },
  {
   "cell_type": "markdown",
   "id": "a2725b50",
   "metadata": {},
   "source": [
    "5. Write a Python program to generate a random number?"
   ]
  },
  {
   "cell_type": "code",
   "execution_count": 36,
   "id": "c881dd97",
   "metadata": {},
   "outputs": [
    {
     "name": "stdout",
     "output_type": "stream",
     "text": [
      "0.4381065343848397\n"
     ]
    }
   ],
   "source": [
    "from random import random\n",
    "\n",
    "print(random()) # prints a value between 0 and 1 every time it executes\n",
    "\n"
   ]
  },
  {
   "cell_type": "code",
   "execution_count": null,
   "id": "f068fc40",
   "metadata": {},
   "outputs": [],
   "source": []
  }
 ],
 "metadata": {
  "kernelspec": {
   "display_name": "Python 3 (ipykernel)",
   "language": "python",
   "name": "python3"
  },
  "language_info": {
   "codemirror_mode": {
    "name": "ipython",
    "version": 3
   },
   "file_extension": ".py",
   "mimetype": "text/x-python",
   "name": "python",
   "nbconvert_exporter": "python",
   "pygments_lexer": "ipython3",
   "version": "3.9.7"
  }
 },
 "nbformat": 4,
 "nbformat_minor": 5
}
