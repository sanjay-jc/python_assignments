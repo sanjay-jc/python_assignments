{
 "cells": [
  {
   "cell_type": "markdown",
   "id": "aee66af7",
   "metadata": {},
   "source": [
    "1.\tWrite a Python Program to Display Fibonacci Sequence Using Recursion?"
   ]
  },
  {
   "cell_type": "code",
   "execution_count": 14,
   "id": "90ef5b76",
   "metadata": {},
   "outputs": [
    {
     "name": "stdout",
     "output_type": "stream",
     "text": [
      "0 1 1 2 3 5 8 13 21 34 "
     ]
    }
   ],
   "source": [
    "def Fibonacci(n):\n",
    "    try:\n",
    "        if n == 0 or n == 1:\n",
    "            return n\n",
    "        return Fibonacci(n-1) + Fibonacci(n-2)\n",
    "    except Exception as e:\n",
    "        print(e)\n",
    "        \n",
    "#showing first 10 numbers of Fibonacci sequence\n",
    "\n",
    "for i in range(10):\n",
    "    print(Fibonacci(i),end = \" \")"
   ]
  },
  {
   "cell_type": "markdown",
   "id": "202c7449",
   "metadata": {},
   "source": [
    "2.\tWrite a Python Program to Find Factorial of Number Using Recursion?"
   ]
  },
  {
   "cell_type": "code",
   "execution_count": 17,
   "id": "805a574b",
   "metadata": {},
   "outputs": [],
   "source": [
    "# function for finding the factorial of n using recursion\n",
    "def Factorial(n):\n",
    "    try:\n",
    "        if n == 1:\n",
    "            return 1\n",
    "        return Factorial(n-1)*n\n",
    "    except Exception as e:\n",
    "        print(e)"
   ]
  },
  {
   "cell_type": "code",
   "execution_count": 18,
   "id": "1651ec41",
   "metadata": {},
   "outputs": [
    {
     "data": {
      "text/plain": [
       "120"
      ]
     },
     "execution_count": 18,
     "metadata": {},
     "output_type": "execute_result"
    }
   ],
   "source": [
    "Factorial(5) #Calculating the factorial of 5"
   ]
  },
  {
   "cell_type": "markdown",
   "id": "5937ca3a",
   "metadata": {},
   "source": [
    "3.\tWrite a Python Program to calculate your Body Mass Index?"
   ]
  },
  {
   "cell_type": "code",
   "execution_count": 24,
   "id": "c95e5670",
   "metadata": {},
   "outputs": [
    {
     "name": "stdout",
     "output_type": "stream",
     "text": [
      "Enter your height(cm): 175\n",
      "Enter your weight(Kg): 75\n"
     ]
    }
   ],
   "source": [
    "def bmi(height,weight):\n",
    "    height = height /100\n",
    "    result = weight/height**2 # calculating BMI\n",
    "    #reference values\n",
    "    if result < 18.5:\n",
    "        return 'Underweight'\n",
    "    elif result < 24.9:\n",
    "        return 'Normal Healthy weight'\n",
    "    elif result < 29.9:\n",
    "        return \"Overweight\"\n",
    "    elif result < 39.9:\n",
    "        return 'Obese'\n",
    "    elif result > 40:\n",
    "        return 'Morbidly obese'"
   ]
  },
  {
   "cell_type": "code",
   "execution_count": 26,
   "id": "71d64f7d",
   "metadata": {},
   "outputs": [
    {
     "name": "stdout",
     "output_type": "stream",
     "text": [
      "Enter your height(cm): 175\n",
      "Enter your weight(Kg): 75\n",
      "24.489795918367346\n",
      "1.75\n",
      "Normal Healthy weight\n"
     ]
    }
   ],
   "source": [
    "#Taking data from user and calculating BMI\n",
    "\n",
    "height = float(input('Enter your height(cm): '))\n",
    "weight = float(input('Enter your weight(Kg): '))\n",
    "\n",
    "print(bmi(height,weight))"
   ]
  },
  {
   "cell_type": "markdown",
   "id": "b8a62f3e",
   "metadata": {},
   "source": [
    "4.\tWrite a Python Program to calculate the natural logarithm of any number?"
   ]
  },
  {
   "cell_type": "code",
   "execution_count": 39,
   "id": "5ca98737",
   "metadata": {},
   "outputs": [
    {
     "data": {
      "text/plain": [
       "1.3862943611198906"
      ]
     },
     "execution_count": 39,
     "metadata": {},
     "output_type": "execute_result"
    }
   ],
   "source": [
    "import math\n",
    "def nat_log(number):\n",
    "    try:\n",
    "        return math.log(number, math.e)\n",
    "    except Exception as e:\n",
    "        print(e)\n",
    "\n",
    "#calculating natural log of 4\n",
    "nat_log(4)"
   ]
  },
  {
   "cell_type": "markdown",
   "id": "67c21d12",
   "metadata": {},
   "source": [
    "5.\tWrite a Python Program for cube sum of first n natural numbers?"
   ]
  },
  {
   "cell_type": "code",
   "execution_count": 41,
   "id": "4cf137c8",
   "metadata": {},
   "outputs": [],
   "source": [
    "def cube_n(number):\n",
    "    try:\n",
    "        lst = []\n",
    "        for i in range(1,number+1):\n",
    "            lst.append(i**3)\n",
    "        return sum(lst)\n",
    "    except Exception as e:\n",
    "        print(e)"
   ]
  },
  {
   "cell_type": "code",
   "execution_count": 42,
   "id": "dcc48761",
   "metadata": {},
   "outputs": [
    {
     "data": {
      "text/plain": [
       "3025"
      ]
     },
     "execution_count": 42,
     "metadata": {},
     "output_type": "execute_result"
    }
   ],
   "source": [
    "cube_n(10)"
   ]
  },
  {
   "cell_type": "code",
   "execution_count": null,
   "id": "f11d4142",
   "metadata": {},
   "outputs": [],
   "source": []
  }
 ],
 "metadata": {
  "kernelspec": {
   "display_name": "Python 3 (ipykernel)",
   "language": "python",
   "name": "python3"
  },
  "language_info": {
   "codemirror_mode": {
    "name": "ipython",
    "version": 3
   },
   "file_extension": ".py",
   "mimetype": "text/x-python",
   "name": "python",
   "nbconvert_exporter": "python",
   "pygments_lexer": "ipython3",
   "version": "3.9.7"
  }
 },
 "nbformat": 4,
 "nbformat_minor": 5
}
