{
 "cells": [
  {
   "cell_type": "markdown",
   "id": "f8baa881",
   "metadata": {},
   "source": [
    "1.\tWrite a Python Program to Add Two Matrices?"
   ]
  },
  {
   "cell_type": "code",
   "execution_count": 1,
   "id": "b3b0014c",
   "metadata": {},
   "outputs": [],
   "source": [
    "a = [[1,2],\n",
    "     [3,4]]\n",
    "\n",
    "b = [[5,6],\n",
    "     [7,8]]"
   ]
  },
  {
   "cell_type": "code",
   "execution_count": 24,
   "id": "9be5bef9",
   "metadata": {},
   "outputs": [],
   "source": [
    "def mat_addition(a,b):\n",
    "    try:\n",
    "        \n",
    "        result = [[0,0],\n",
    "                  [0,0]]\n",
    "\n",
    "        for i in range(len(a)):\n",
    "            for j in range(len(a[0])):\n",
    "                result[i][j] = a[i][j] + b[i][j]\n",
    "        return result\n",
    "    except Exception as e:\n",
    "        return e"
   ]
  },
  {
   "cell_type": "code",
   "execution_count": 25,
   "id": "b11c21c1",
   "metadata": {},
   "outputs": [
    {
     "data": {
      "text/plain": [
       "[[6, 8], [10, 12]]"
      ]
     },
     "execution_count": 25,
     "metadata": {},
     "output_type": "execute_result"
    }
   ],
   "source": [
    "(mat_addition(a,b))"
   ]
  },
  {
   "cell_type": "markdown",
   "id": "a62b8b7a",
   "metadata": {},
   "source": [
    "2.\tWrite a Python Program to Multiply Two Matrices?"
   ]
  },
  {
   "cell_type": "code",
   "execution_count": 45,
   "id": "94dee37e",
   "metadata": {},
   "outputs": [],
   "source": [
    "def mat_mul(a,b):\n",
    "    try:\n",
    "        result = [[0,0],\n",
    "               [0,0]]\n",
    "        for i in range(len(a)):\n",
    "            for j in range(len(b[0])):\n",
    "                for k in range(len(b)):\n",
    "                    result[i][j] += a[i][k] * b[k][j]\n",
    "        return result\n",
    "    except Exception as e:\n",
    "        print(e)"
   ]
  },
  {
   "cell_type": "code",
   "execution_count": 46,
   "id": "dbb5f4db",
   "metadata": {},
   "outputs": [
    {
     "name": "stdout",
     "output_type": "stream",
     "text": [
      "[[19, 22], [43, 50]]\n"
     ]
    }
   ],
   "source": [
    "print(mat_mul(a,b))"
   ]
  },
  {
   "cell_type": "markdown",
   "id": "93135bcc",
   "metadata": {},
   "source": [
    "3.\tWrite a Python Program to Transpose a Matrix?"
   ]
  },
  {
   "cell_type": "code",
   "execution_count": 44,
   "id": "58194cee",
   "metadata": {},
   "outputs": [],
   "source": [
    "def transpose(a):\n",
    "    try:\n",
    "        result = [[0,0],[0,0]]\n",
    "        for i in range(len(a)):\n",
    "            for j in range(len(a[0])):\n",
    "                for k in range(len(a)):\n",
    "                    result[i][k] = a[k][i]\n",
    "        return result\n",
    "    except Exception as e:\n",
    "        print(e)"
   ]
  },
  {
   "cell_type": "code",
   "execution_count": 84,
   "id": "690205f0",
   "metadata": {},
   "outputs": [
    {
     "data": {
      "text/plain": [
       "[[1, 3], [2, 4]]"
      ]
     },
     "execution_count": 84,
     "metadata": {},
     "output_type": "execute_result"
    }
   ],
   "source": [
    "transpose(a)"
   ]
  },
  {
   "cell_type": "markdown",
   "id": "540fe2a9",
   "metadata": {},
   "source": [
    "4.\tWrite a Python Program to Sort Words in Alphabetic Order?"
   ]
  },
  {
   "cell_type": "code",
   "execution_count": 78,
   "id": "dc6229e2",
   "metadata": {},
   "outputs": [],
   "source": [
    "words = 'The quick brown fox jump over the lazy dog.'\n",
    "\n",
    "def sort_alpha(string):\n",
    "    try:\n",
    "        words = string.lower().split(' ')\n",
    "        words.sort()\n",
    "        for i in words:\n",
    "            print(i)\n",
    "    except Exception as e:\n",
    "        print(e)"
   ]
  },
  {
   "cell_type": "code",
   "execution_count": 79,
   "id": "b58728c7",
   "metadata": {},
   "outputs": [
    {
     "name": "stdout",
     "output_type": "stream",
     "text": [
      "brown\n",
      "dog.\n",
      "fox\n",
      "jump\n",
      "lazy\n",
      "over\n",
      "quick\n",
      "the\n",
      "the\n"
     ]
    }
   ],
   "source": [
    "sort_alpha(words)"
   ]
  },
  {
   "cell_type": "markdown",
   "id": "52e38f7d",
   "metadata": {},
   "source": [
    "5.\tWrite a Python Program to Remove Punctuation From a String?"
   ]
  },
  {
   "cell_type": "code",
   "execution_count": 82,
   "id": "8666afd0",
   "metadata": {},
   "outputs": [],
   "source": [
    "def remove(string):\n",
    "    try:\n",
    "    result = string.replace('.','')\n",
    "    return result"
   ]
  },
  {
   "cell_type": "code",
   "execution_count": 83,
   "id": "bd0b288b",
   "metadata": {},
   "outputs": [
    {
     "data": {
      "text/plain": [
       "'The quick brown fox jump over the lazy dog'"
      ]
     },
     "execution_count": 83,
     "metadata": {},
     "output_type": "execute_result"
    }
   ],
   "source": [
    "remove(words)"
   ]
  },
  {
   "cell_type": "code",
   "execution_count": null,
   "id": "8bdddb23",
   "metadata": {},
   "outputs": [],
   "source": []
  }
 ],
 "metadata": {
  "kernelspec": {
   "display_name": "Python 3 (ipykernel)",
   "language": "python",
   "name": "python3"
  },
  "language_info": {
   "codemirror_mode": {
    "name": "ipython",
    "version": 3
   },
   "file_extension": ".py",
   "mimetype": "text/x-python",
   "name": "python",
   "nbconvert_exporter": "python",
   "pygments_lexer": "ipython3",
   "version": "3.9.7"
  }
 },
 "nbformat": 4,
 "nbformat_minor": 5
}
