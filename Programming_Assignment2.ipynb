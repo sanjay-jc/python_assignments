{
 "cells": [
  {
   "cell_type": "markdown",
   "id": "21ca33bb",
   "metadata": {},
   "source": [
    "1. Write a Python program to convert kilometers to miles?"
   ]
  },
  {
   "cell_type": "code",
   "execution_count": 5,
   "id": "f60c2e2a",
   "metadata": {},
   "outputs": [
    {
     "name": "stdout",
     "output_type": "stream",
     "text": [
      "Enter the KM: 10\n",
      "10.0km = 6.21miles\n"
     ]
    }
   ],
   "source": [
    "km = float(input(\"Enter the KM: \"))\n",
    "km_miles = km * 0.621371\n",
    "print(f'{km}km = {round(km_miles,2)}miles')"
   ]
  },
  {
   "cell_type": "markdown",
   "id": "40028f76",
   "metadata": {},
   "source": [
    "2. Write a Python program to convert Celsius to Fahrenheit?"
   ]
  },
  {
   "cell_type": "code",
   "execution_count": 11,
   "id": "433be768",
   "metadata": {},
   "outputs": [
    {
     "name": "stdout",
     "output_type": "stream",
     "text": [
      "Enter the temperature in (celsius): 0\n",
      "0.0C = 32.0F\n"
     ]
    }
   ],
   "source": [
    "celsius = float(input('Enter the temperature in (celsius): '))\n",
    "Fahrenheit = (celsius * 1.80) + 32\n",
    "print(f'{celsius}C = {Fahrenheit}F')\n"
   ]
  },
  {
   "cell_type": "markdown",
   "id": "fd57f42e",
   "metadata": {},
   "source": [
    "3. Write a Python program to display calendar?"
   ]
  },
  {
   "cell_type": "code",
   "execution_count": 14,
   "id": "522eca91",
   "metadata": {},
   "outputs": [
    {
     "name": "stdout",
     "output_type": "stream",
     "text": [
      "   December 2021\n",
      "Mo Tu We Th Fr Sa Su\n",
      "       1  2  3  4  5\n",
      " 6  7  8  9 10 11 12\n",
      "13 14 15 16 17 18 19\n",
      "20 21 22 23 24 25 26\n",
      "27 28 29 30 31\n",
      "\n"
     ]
    }
   ],
   "source": [
    "import calendar\n",
    "print(calendar.month(2021,12))"
   ]
  },
  {
   "cell_type": "markdown",
   "id": "0df2e8ea",
   "metadata": {},
   "source": [
    "4. Write a Python program to solve quadratic equation?\n",
    "- A quadratic equation is of the form ax^2 + bx + c"
   ]
  },
  {
   "cell_type": "code",
   "execution_count": 8,
   "id": "6cd78a72",
   "metadata": {},
   "outputs": [],
   "source": [
    "import numpy as np\n",
    "def solv_quad():\n",
    "    print(\"The Quadratic equation of the form aX^2+bX+c\")\n",
    "    a = float(input(\"Enter the values a:\"))\n",
    "    b = float(input(\"Enter the values b:\"))\n",
    "    c = float(input(\"Enter the values c:\"))\n",
    "    \n",
    "          \n",
    "    d = b**2 - 4*a*c # calculating discriminant\n",
    "    if d >= 0:\n",
    "        print('The roots are real')\n",
    "        root1 = (-b + np.sqrt(b **2 - 4*a*c)) / 2*a\n",
    "        root2 = (-b - np.sqrt(b **2 - 4*a*c)) / 2*a\n",
    "        print(f'X1 = {root1}, X2 = {root2}')\n",
    "    if d < 0:\n",
    "        print('The roots are complex')\n",
    "        root1 = f'{str((-b)/(2*a))} + {round(np.sqrt(abs(d))/2*a,2)}i'\n",
    "        root2 = f'{str((-b)/(2*a))} - {round(np.sqrt(abs(d))/2*a,2)}i'\n",
    "        print(f'X1 = {root1}, X2 = {root2}')"
   ]
  },
  {
   "cell_type": "code",
   "execution_count": 10,
   "id": "2a177d66",
   "metadata": {},
   "outputs": [
    {
     "name": "stdout",
     "output_type": "stream",
     "text": [
      "The Quadratic equation of the form aX^2+bX+c\n",
      "Enter the values a:1\n",
      "Enter the values b:-2\n",
      "Enter the values c:1\n",
      "The roots are real\n",
      "X1 = 1.0, X2 = 1.0\n"
     ]
    }
   ],
   "source": [
    "solv_quad()"
   ]
  },
  {
   "cell_type": "markdown",
   "id": "7fc9dc03",
   "metadata": {},
   "source": [
    "5. Write a Python program to swap two variables without temp variable?"
   ]
  },
  {
   "cell_type": "code",
   "execution_count": 11,
   "id": "0c3ac428",
   "metadata": {},
   "outputs": [
    {
     "name": "stdout",
     "output_type": "stream",
     "text": [
      "a:2\n",
      "b:5\n",
      "Before swapping a =2,b =5\n",
      "After swapping a =5,b =2\n"
     ]
    }
   ],
   "source": [
    "a = int(input('a:'))\n",
    "b = int(input('b:'))\n",
    "print(f'Before swapping a ={a},b ={b}')\n",
    "\n",
    "# swapping the varibles\n",
    "\n",
    "a,b = b,a\n",
    "\n",
    "print(f'After swapping a ={a},b ={b}')"
   ]
  },
  {
   "cell_type": "code",
   "execution_count": null,
   "id": "4e24b33b",
   "metadata": {},
   "outputs": [],
   "source": []
  }
 ],
 "metadata": {
  "kernelspec": {
   "display_name": "Python 3 (ipykernel)",
   "language": "python",
   "name": "python3"
  },
  "language_info": {
   "codemirror_mode": {
    "name": "ipython",
    "version": 3
   },
   "file_extension": ".py",
   "mimetype": "text/x-python",
   "name": "python",
   "nbconvert_exporter": "python",
   "pygments_lexer": "ipython3",
   "version": "3.9.7"
  }
 },
 "nbformat": 4,
 "nbformat_minor": 5
}
