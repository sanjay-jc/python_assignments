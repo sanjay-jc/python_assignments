{
 "cells": [
  {
   "cell_type": "markdown",
   "id": "55c149f1",
   "metadata": {},
   "source": [
    "1.\tWrite a Python Program to find sum of array?"
   ]
  },
  {
   "cell_type": "code",
   "execution_count": 1,
   "id": "275caa47",
   "metadata": {},
   "outputs": [],
   "source": [
    "import array as arr"
   ]
  },
  {
   "cell_type": "code",
   "execution_count": 2,
   "id": "142f3d33",
   "metadata": {},
   "outputs": [],
   "source": [
    "def array_sum(test):\n",
    "    return sum(test)"
   ]
  },
  {
   "cell_type": "code",
   "execution_count": 3,
   "id": "c1e14a44",
   "metadata": {},
   "outputs": [
    {
     "data": {
      "text/plain": [
       "108"
      ]
     },
     "execution_count": 3,
     "metadata": {},
     "output_type": "execute_result"
    }
   ],
   "source": [
    "test_ar = arr.array('i',[0,1,2,3,4,5,6,7,8,9,3,4,56])\n",
    "array_sum(test_ar)"
   ]
  },
  {
   "cell_type": "markdown",
   "id": "48e7a86f",
   "metadata": {},
   "source": [
    "2.\tWrite a Python Program to find largest element in an array?"
   ]
  },
  {
   "cell_type": "code",
   "execution_count": 4,
   "id": "ef81e015",
   "metadata": {},
   "outputs": [],
   "source": [
    "def array_largest(test):\n",
    "    return max(test)\n",
    "        "
   ]
  },
  {
   "cell_type": "code",
   "execution_count": 5,
   "id": "0f04eda1",
   "metadata": {},
   "outputs": [
    {
     "data": {
      "text/plain": [
       "56"
      ]
     },
     "execution_count": 5,
     "metadata": {},
     "output_type": "execute_result"
    }
   ],
   "source": [
    "array_largest(test_ar)"
   ]
  },
  {
   "cell_type": "markdown",
   "id": "a354839b",
   "metadata": {},
   "source": [
    "3.\tWrite a Python Program for array rotation?\n"
   ]
  },
  {
   "cell_type": "code",
   "execution_count": 6,
   "id": "619836d9",
   "metadata": {},
   "outputs": [],
   "source": [
    "test_arr = arr.array('i',[1,2,3,4,5,6,7])\n",
    "def array_rot(test,n):# n shows the no of elements to be shifted\n",
    "    lst = []\n",
    "    temp = test[:n]\n",
    "    test = test[n:]\n",
    "    for i in temp:\n",
    "        test.append(i)\n",
    "    print(test)"
   ]
  },
  {
   "cell_type": "code",
   "execution_count": 7,
   "id": "fe3dbda3",
   "metadata": {},
   "outputs": [
    {
     "name": "stdout",
     "output_type": "stream",
     "text": [
      "array('i', [3, 4, 5, 6, 7, 1, 2])\n"
     ]
    }
   ],
   "source": [
    "array_rot(test_arr,2)"
   ]
  },
  {
   "cell_type": "markdown",
   "id": "4dd30c9f",
   "metadata": {},
   "source": [
    "4.\tWrite a Python Program to Split the array and add the first part to the end?"
   ]
  },
  {
   "cell_type": "code",
   "execution_count": 8,
   "id": "74b796ca",
   "metadata": {},
   "outputs": [],
   "source": [
    "def split_array(array):\n",
    "    try:\n",
    "        split = len(array)//2\n",
    "        print(f'First {split} elements of the list will be add to the end of the array')\n",
    "        temp = array[:split]\n",
    "        test = array[split:]\n",
    "        for i in temp:\n",
    "            test.append(i)\n",
    "        return arr.array('i',test)\n",
    "    except Exception as e:\n",
    "        print(e)"
   ]
  },
  {
   "cell_type": "code",
   "execution_count": 9,
   "id": "2455de05",
   "metadata": {},
   "outputs": [
    {
     "name": "stdout",
     "output_type": "stream",
     "text": [
      "array('i', [1, 2, 3, 4, 5, 6, 7])\n",
      "First 3 elements of the list will be add to the end of the array\n",
      "array('i', [4, 5, 6, 7, 1, 2, 3])\n"
     ]
    }
   ],
   "source": [
    "print(test_arr)\n",
    "print(split_array(test_arr))"
   ]
  },
  {
   "cell_type": "markdown",
   "id": "d359edfb",
   "metadata": {},
   "source": [
    "5.\tWrite a Python Program to check if given array is Monotonic?"
   ]
  },
  {
   "cell_type": "code",
   "execution_count": 50,
   "id": "cd53d7af",
   "metadata": {},
   "outputs": [],
   "source": []
  },
  {
   "cell_type": "code",
   "execution_count": 51,
   "id": "2a86aa6a",
   "metadata": {},
   "outputs": [],
   "source": [
    "def is_monotonic(a):\n",
    "    try:\n",
    "        is_increasing = all([True  if a[i] < a[i + 1] else False for i in range(len(a) - 1)])\n",
    "        is_decreasing  = all([True  if a[i] > a[i + 1] else False for i in range(len(a) - 1)])\n",
    "        if is_increasing:\n",
    "            return f'The given array {a}is continuously increasing'\n",
    "        elif is_decreasing:\n",
    "            return f' The given array{a} is is continuously decreasing'\n",
    "        else:\n",
    "            return 'The array is not monotonic'\n",
    "    except Exception as e:\n",
    "        print(e)"
   ]
  },
  {
   "cell_type": "code",
   "execution_count": 55,
   "id": "7c02817d",
   "metadata": {},
   "outputs": [
    {
     "data": {
      "text/plain": [
       "\" The given arrayarray('i', [8, 7, 6, 5, 4, 3, 2, 1]) is is continuously decreasing\""
      ]
     },
     "execution_count": 55,
     "metadata": {},
     "output_type": "execute_result"
    }
   ],
   "source": [
    "tes_arr = arr.array('i',[8,7,6,5,4,3,2,1])\n",
    "is_monotonic(tes_arr)"
   ]
  }
 ],
 "metadata": {
  "kernelspec": {
   "display_name": "Python 3 (ipykernel)",
   "language": "python",
   "name": "python3"
  },
  "language_info": {
   "codemirror_mode": {
    "name": "ipython",
    "version": 3
   },
   "file_extension": ".py",
   "mimetype": "text/x-python",
   "name": "python",
   "nbconvert_exporter": "python",
   "pygments_lexer": "ipython3",
   "version": "3.9.7"
  }
 },
 "nbformat": 4,
 "nbformat_minor": 5
}
