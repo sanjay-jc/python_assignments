{
 "cells": [
  {
   "cell_type": "markdown",
   "id": "9b1fae6c",
   "metadata": {},
   "source": [
    "1.\tWrite a Python Program to Find the Factorial of a Number?"
   ]
  },
  {
   "cell_type": "code",
   "execution_count": 15,
   "id": "b6e43c36",
   "metadata": {},
   "outputs": [
    {
     "name": "stdout",
     "output_type": "stream",
     "text": [
      "Enter the no: 7\n",
      "5040\n"
     ]
    }
   ],
   "source": [
    "no = int(input('Enter the no: '))\n",
    "factorial = 1\n",
    "for i in range(1,no + 1):\n",
    "    factorial  = factorial * i\n",
    "print(factorial)"
   ]
  },
  {
   "cell_type": "markdown",
   "id": "11dacc55",
   "metadata": {},
   "source": [
    "2.\tWrite a Python Program to Display the multiplication Table?"
   ]
  },
  {
   "cell_type": "code",
   "execution_count": 27,
   "id": "674451f3",
   "metadata": {},
   "outputs": [],
   "source": [
    "def multable(num,upto):\n",
    "    num,upto = int(num),int(upto)    \n",
    "    for i in range(1,upto+1):\n",
    "        print(f'{i} x {num} :',i*num)"
   ]
  },
  {
   "cell_type": "code",
   "execution_count": 28,
   "id": "1f1aad3c",
   "metadata": {},
   "outputs": [
    {
     "name": "stdout",
     "output_type": "stream",
     "text": [
      "1 x 9 : 9\n",
      "2 x 9 : 18\n",
      "3 x 9 : 27\n",
      "4 x 9 : 36\n",
      "5 x 9 : 45\n",
      "6 x 9 : 54\n",
      "7 x 9 : 63\n",
      "8 x 9 : 72\n",
      "9 x 9 : 81\n",
      "10 x 9 : 90\n"
     ]
    }
   ],
   "source": [
    "multable(9,10)"
   ]
  },
  {
   "cell_type": "markdown",
   "id": "54083049",
   "metadata": {},
   "source": [
    "3.\tWrite a Python Program to Print the Fibonacci sequence?"
   ]
  },
  {
   "cell_type": "code",
   "execution_count": 39,
   "id": "d452fe21",
   "metadata": {},
   "outputs": [
    {
     "name": "stdout",
     "output_type": "stream",
     "text": [
      "0\n",
      "1\n",
      "1\n",
      "2\n",
      "3\n",
      "5\n",
      "8\n",
      "13\n",
      "21\n",
      "34\n"
     ]
    }
   ],
   "source": [
    "n1 = 0\n",
    "n2 = 1\n",
    "count = 0\n",
    "nos = 10\n",
    "while count < nos:\n",
    "    count += 1\n",
    "    print(n1)\n",
    "    nth = n1 + n2\n",
    "    n1 = n2\n",
    "    n2 = nth"
   ]
  },
  {
   "cell_type": "markdown",
   "id": "d087ed52",
   "metadata": {},
   "source": [
    "4.\tWrite a Python Program to Check Armstrong Number?"
   ]
  },
  {
   "cell_type": "code",
   "execution_count": 3,
   "id": "a373049e",
   "metadata": {},
   "outputs": [
    {
     "name": "stdout",
     "output_type": "stream",
     "text": [
      "Enter the no: 152\n",
      "152 is a not Armstrong Number\n"
     ]
    }
   ],
   "source": [
    "def armstrong_no(no):\n",
    "    result = 0\n",
    "    itr = map(int,no)\n",
    "    for i in itr:\n",
    "        result += i ** len(no)\n",
    "    if result == int(no):\n",
    "        return f'{no} is a Armstrong Number'\n",
    "    else:\n",
    "        return f'{no} is a not Armstrong Number'\n",
    "    \n",
    "    \n",
    "no = input('Enter the no: ')\n",
    "print(armstrong_no(no))"
   ]
  },
  {
   "cell_type": "markdown",
   "id": "599dbd5b",
   "metadata": {},
   "source": [
    "5.\tWrite a Python Program to Find Armstrong Number in an Interval?"
   ]
  },
  {
   "cell_type": "code",
   "execution_count": 4,
   "id": "485ee4f2",
   "metadata": {},
   "outputs": [],
   "source": [
    "def armstrong_interval(lower,upper):\n",
    "    lst = []\n",
    "    for num  in range(lower,upper+1):\n",
    "        summ = 0\n",
    "        temp = num\n",
    "        pwr = len(str(num)) # the len will give the power\n",
    "        while temp > 0:\n",
    "            digit = temp % 10\n",
    "            summ += digit ** pwr\n",
    "            temp //= 10\n",
    "        if summ == num:\n",
    "            lst.append(summ)\n",
    "    return lst"
   ]
  },
  {
   "cell_type": "code",
   "execution_count": 7,
   "id": "8a0cd97d",
   "metadata": {},
   "outputs": [
    {
     "data": {
      "text/plain": [
       "[1, 2, 3, 4, 5, 6, 7, 8, 9, 153, 370, 371]"
      ]
     },
     "execution_count": 7,
     "metadata": {},
     "output_type": "execute_result"
    }
   ],
   "source": [
    "armstrong_interval(1,400)"
   ]
  },
  {
   "cell_type": "markdown",
   "id": "cfdfa340",
   "metadata": {},
   "source": [
    "6.\tWrite a Python Program to Find the Sum of Natural Numbers?"
   ]
  },
  {
   "cell_type": "code",
   "execution_count": 9,
   "id": "08218727",
   "metadata": {},
   "outputs": [
    {
     "name": "stdout",
     "output_type": "stream",
     "text": [
      "Enter the natural no: 16\n",
      "136\n"
     ]
    }
   ],
   "source": [
    "no = int(input('Enter the natural no: '))\n",
    "\n",
    "total = 0 # varible to store the result\n",
    "\n",
    "for i in range(no + 1):\n",
    "    total += i\n",
    "print(total)"
   ]
  },
  {
   "cell_type": "code",
   "execution_count": null,
   "id": "dfc1a305",
   "metadata": {},
   "outputs": [],
   "source": []
  }
 ],
 "metadata": {
  "kernelspec": {
   "display_name": "Python 3 (ipykernel)",
   "language": "python",
   "name": "python3"
  },
  "language_info": {
   "codemirror_mode": {
    "name": "ipython",
    "version": 3
   },
   "file_extension": ".py",
   "mimetype": "text/x-python",
   "name": "python",
   "nbconvert_exporter": "python",
   "pygments_lexer": "ipython3",
   "version": "3.9.7"
  }
 },
 "nbformat": 4,
 "nbformat_minor": 5
}
